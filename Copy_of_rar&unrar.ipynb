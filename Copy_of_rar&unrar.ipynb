{
  "nbformat": 4,
  "nbformat_minor": 0,
  "metadata": {
    "colab": {
      "name": "Copy of rar&unrar.ipynb",
      "provenance": [],
      "collapsed_sections": [],
      "authorship_tag": "ABX9TyOTRB5PqoL23NW4hlE68dpT",
      "include_colab_link": true
    },
    "kernelspec": {
      "name": "python3",
      "display_name": "Python 3"
    }
  },
  "cells": [
    {
      "cell_type": "markdown",
      "metadata": {
        "id": "view-in-github",
        "colab_type": "text"
      },
      "source": [
        "<a href=\"https://colab.research.google.com/github/k84shailendra/rar-unrar-in-colab/blob/main/Copy_of_rar%26unrar.ipynb\" target=\"_parent\"><img src=\"https://colab.research.google.com/assets/colab-badge.svg\" alt=\"Open In Colab\"/></a>"
      ]
    },
    {
      "cell_type": "markdown",
      "metadata": {
        "id": "-UScz1vECogz"
      },
      "source": [
        "INSTALL UNRAR"
      ]
    },
    {
      "cell_type": "code",
      "metadata": {
        "id": "-UPrPEmkWHKx",
        "outputId": "fc88801a-b3a7-434b-9466-8577778cd1fb",
        "colab": {
          "base_uri": "https://localhost:8080/"
        }
      },
      "source": [
        "!sudo apt-get install unrar"
      ],
      "execution_count": null,
      "outputs": [
        {
          "output_type": "stream",
          "text": [
            "Reading package lists... Done\n",
            "Building dependency tree       \n",
            "Reading state information... Done\n",
            "unrar is already the newest version (1:5.5.8-1).\n",
            "0 upgraded, 0 newly installed, 0 to remove and 12 not upgraded.\n"
          ],
          "name": "stdout"
        }
      ]
    },
    {
      "cell_type": "markdown",
      "metadata": {
        "id": "jWXiHrQYC1Vl"
      },
      "source": [
        "CHANGE DIRECTORY WHEN NEEDED"
      ]
    },
    {
      "cell_type": "code",
      "metadata": {
        "id": "QNwicB0QXGvI",
        "outputId": "6c1d3b49-1c24-4095-efb0-aaf9f7c126ce",
        "colab": {
          "base_uri": "https://localhost:8080/"
        }
      },
      "source": [
        "%cd /content/drive/My Drive/My data/my pic11/"
      ],
      "execution_count": null,
      "outputs": [
        {
          "output_type": "stream",
          "text": [
            "/content/drive/My Drive/My data/my pic11\n"
          ],
          "name": "stdout"
        }
      ]
    },
    {
      "cell_type": "code",
      "metadata": {
        "id": "hQpTRBl-XfZ8"
      },
      "source": [
        "#@title Extract a file in given folder\n",
        "!unrar e \"my pic1.rar\""
      ],
      "execution_count": null,
      "outputs": []
    },
    {
      "cell_type": "code",
      "metadata": {
        "id": "Lhfe6Ni9Y9CQ"
      },
      "source": [
        "#@title list of files in archieve\n",
        "!unrar l \"my pic1.rar\""
      ],
      "execution_count": null,
      "outputs": []
    },
    {
      "cell_type": "code",
      "metadata": {
        "id": "dMxHjCJ1dEu2"
      },
      "source": [
        "#@title INSTALL RAR\n",
        "!sudo apt-get install rar"
      ],
      "execution_count": null,
      "outputs": []
    },
    {
      "cell_type": "code",
      "metadata": {
        "id": "kB7IUb8XckAa",
        "outputId": "22ce0d5a-8af2-4e54-cf10-42b7872bccbe",
        "colab": {
          "base_uri": "https://localhost:8080/"
        }
      },
      "source": [
        "%cd /content/drive/My Drive/My data/test"
      ],
      "execution_count": null,
      "outputs": [
        {
          "output_type": "stream",
          "text": [
            "/content/drive/My Drive/My data/test\n"
          ],
          "name": "stdout"
        }
      ]
    },
    {
      "cell_type": "markdown",
      "metadata": {
        "id": "rLfV2KITD-cv"
      },
      "source": [
        "CONVERT A FOLDER INTO RAR FILE"
      ]
    },
    {
      "cell_type": "code",
      "metadata": {
        "id": "3qHdUJ2Jb3VH"
      },
      "source": [
        "!rar a mypic11.rar \"my pic11\""
      ],
      "execution_count": null,
      "outputs": []
    },
    {
      "cell_type": "markdown",
      "metadata": {
        "id": "is5VLE3IEmwT"
      },
      "source": [
        ""
      ]
    },
    {
      "cell_type": "code",
      "metadata": {
        "id": "aRphblfneRYd"
      },
      "source": [
        "!rar a -p\"00000\" \"/content/drive/My Drive/My data/test/mypic11.rar\""
      ],
      "execution_count": null,
      "outputs": []
    },
    {
      "cell_type": "code",
      "metadata": {
        "id": "C3KA49RmeSrL"
      },
      "source": [
        "!rar l \"/content/drive/My Drive/My data/test.rar\""
      ],
      "execution_count": null,
      "outputs": []
    },
    {
      "cell_type": "code",
      "metadata": {
        "id": "q_ebZ5wVj-XT",
        "outputId": "fc7b011a-ee23-4516-faa2-3df01f53e691",
        "colab": {
          "base_uri": "https://localhost:8080/"
        }
      },
      "source": [
        "%cd /content/drive/My Drive/My data/test/"
      ],
      "execution_count": null,
      "outputs": [
        {
          "output_type": "stream",
          "text": [
            "/content/drive/My Drive/My data/test\n"
          ],
          "name": "stdout"
        }
      ]
    },
    {
      "cell_type": "code",
      "metadata": {
        "id": "Nq7T5EfmfQuW"
      },
      "source": [
        "!unrar e \"/content/drive/My Drive/My data/test/mypic11.rar\""
      ],
      "execution_count": null,
      "outputs": []
    },
    {
      "cell_type": "code",
      "metadata": {
        "id": "B-oy2l4Ujgje"
      },
      "source": [
        "!rar l '/content/drive/My Drive/My data/my pic33/my pic3.rar'"
      ],
      "execution_count": null,
      "outputs": []
    },
    {
      "cell_type": "code",
      "metadata": {
        "id": "NDn5gPp5nVkY"
      },
      "source": [
        "!rar a -hp\"000000000\" '/content/drive/My Drive/My data/test'"
      ],
      "execution_count": null,
      "outputs": []
    },
    {
      "cell_type": "code",
      "metadata": {
        "id": "00OlPJV8t5iC",
        "outputId": "cd98ea4f-5385-429f-b01d-5cdf89293977",
        "colab": {
          "base_uri": "https://localhost:8080/"
        }
      },
      "source": [
        "!rar a -hp\"00000000\" \"/content/drive/My Drive/My data/test/mypic11.rar *.*\""
      ],
      "execution_count": null,
      "outputs": [
        {
          "output_type": "stream",
          "text": [
            "\n",
            "RAR 5.50   Copyright (c) 1993-2017 Alexander Roshal   11 Aug 2017\n",
            "Trial version             Type 'rar -?' for help\n",
            "\n",
            "Evaluation copy. Please register.\n",
            "\n",
            "Creating archive /content/drive/My Drive/My data/test/mypic11.rar *.*\n",
            "\n",
            "Adding    mypic11.rar                                                    \b\b\b\b  0%\b\b\b\b  1%\b\b\b\b  2%\b\b\b\b  3%\b\b\b\b  4%\b\b\b\b  5%\b\b\b\b  6%\b\b\b\b  7%\b\b\b\b  8%\b\b\b\b  9%\b\b\b\b 10%\b\b\b\b 11%\b\b\b\b 12%\b\b\b\b 13%\b\b\b\b 14%\b\b\b\b 15%\b\b\b\b 16%\b\b\b\b 17%\b\b\b\b 18%\b\b\b\b 19%\b\b\b\b 20%\b\b\b\b 21%\b\b\b\b 22%\b\b\b\b 23%\b\b\b\b 24%\b\b\b\b 25%\b\b\b\b 26%\b\b\b\b 27%\b\b\b\b 28%\b\b\b\b 29%\b\b\b\b 30%\b\b\b\b 31%\b\b\b\b 32%\b\b\b\b 33%\b\b\b\b 34%\b\b\b\b 35%\b\b\b\b 36%\b\b\b\b 37%\b\b\b\b 38%\b\b\b\b 39%\b\b\b\b 40%\b\b\b\b 41%\b\b\b\b 42%\b\b\b\b 43%\b\b\b\b 44%\b\b\b\b 45%\b\b\b\b 46%\b\b\b\b 47%\b\b\b\b 48%\b\b\b\b 49%\b\b\b\b 50%\b\b\b\b 51%\b\b\b\b 52%\b\b\b\b 53%\b\b\b\b 54%\b\b\b\b 55%\b\b\b\b 56%\b\b\b\b 57%\b\b\b\b 58%\b\b\b\b 59%\b\b\b\b 60%\b\b\b\b 61%\b\b\b\b 62%\b\b\b\b 63%\b\b\b\b 64%\b\b\b\b 65%\b\b\b\b 66%\b\b\b\b 67%\b\b\b\b 68%\b\b\b\b 69%\b\b\b\b 70%\b\b\b\b 71%\b\b\b\b 72%\b\b\b\b 73%\b\b\b\b 74%\b\b\b\b 75%\b\b\b\b 76%\b\b\b\b 77%\b\b\b\b 78%\b\b\b\b 79%\b\b\b\b 80%\b\b\b\b 81%\b\b\b\b 82%\b\b\b\b 83%\b\b\b\b 84%\b\b\b\b 85%\b\b\b\b 86%\b\b\b\b 87%\b\b\b\b 88%\b\b\b\b 89%\b\b\b\b 90%\b\b\b\b 91%\b\b\b\b 92%\b\b\b\b 93%\b\b\b\b 94%\b\b\b\b 95%\b\b\b\b 96%\b\b\b\b 97%\b\b\b\b 98%\b\b\b\b 99%\b\b\b\b100%\b\b\b\b\b  OK \n",
            "Done\n"
          ],
          "name": "stdout"
        }
      ]
    },
    {
      "cell_type": "code",
      "metadata": {
        "id": "JaHHcuAp1Q0y",
        "outputId": "5a99066e-5f83-4347-bb1b-352e4fdd7c9c",
        "colab": {
          "base_uri": "https://localhost:8080/"
        }
      },
      "source": [
        "!rar l -p\"000000000\" \"/content/drive/My Drive/My data/test.rar\""
      ],
      "execution_count": null,
      "outputs": [
        {
          "output_type": "stream",
          "text": [
            "\n",
            "RAR 5.50   Copyright (c) 1993-2017 Alexander Roshal   11 Aug 2017\n",
            "Trial version             Type 'rar -?' for help\n",
            "\n",
            "Archive: /content/drive/My Drive/My data/test.rar\n",
            "Details: RAR 5, encrypted headers\n",
            "\n",
            " Attributes      Size     Date    Time   Name\n",
            "----------- ---------  ---------- -----  ----\n",
            "*-rw------- 2220766928  2020-11-12 17:48  mypic11.rar\n",
            "----------- ---------  ---------- -----  ----\n",
            "           2220766928                    1\n",
            "\n"
          ],
          "name": "stdout"
        }
      ]
    },
    {
      "cell_type": "code",
      "metadata": {
        "id": "_4mrs8Bh4X5w",
        "outputId": "e7b878ba-8b2c-4b79-aa1b-14f3f0b42c25",
        "colab": {
          "base_uri": "https://localhost:8080/"
        }
      },
      "source": [
        "!rar l \"/content/drive/My Drive/My data/test.rar\""
      ],
      "execution_count": null,
      "outputs": [
        {
          "output_type": "stream",
          "text": [
            "\n",
            "RAR 5.50   Copyright (c) 1993-2017 Alexander Roshal   11 Aug 2017\n",
            "Trial version             Type 'rar -?' for help\n",
            "\n",
            "Enter password (will not be echoed) for /content/drive/My Drive/My data/test.rar: \n",
            "\n",
            "Archive: /content/drive/My Drive/My data/test.rar\n",
            "Details: RAR 5, encrypted headers\n",
            "\n",
            " Attributes      Size     Date    Time   Name\n",
            "----------- ---------  ---------- -----  ----\n",
            "*-rw------- 2220766928  2020-11-12 17:48  mypic11.rar\n",
            "----------- ---------  ---------- -----  ----\n",
            "           2220766928                    1\n",
            "\n"
          ],
          "name": "stdout"
        }
      ]
    },
    {
      "cell_type": "code",
      "metadata": {
        "id": "5aOOlpOY3Sni",
        "outputId": "745e755b-3a29-4bee-fa0b-16e3d0533ef5",
        "colab": {
          "base_uri": "https://localhost:8080/"
        }
      },
      "source": [
        "!rar a -hp\"0000000\" \"/content/drive/My Drive/My data/test/mypic11.rar*.*\""
      ],
      "execution_count": null,
      "outputs": [
        {
          "output_type": "stream",
          "text": [
            "\n",
            "RAR 5.50   Copyright (c) 1993-2017 Alexander Roshal   11 Aug 2017\n",
            "Trial version             Type 'rar -?' for help\n",
            "\n",
            "Evaluation copy. Please register.\n",
            "\n",
            "Creating archive /content/drive/My Drive/My data/test/mypic11.rar*.*\n",
            "\n",
            "Adding    mypic11.rar                                                    \b\b\b\b  0%\b\b\b\b  1%\n",
            "User break\n",
            "\n",
            "Program aborted\n"
          ],
          "name": "stdout"
        }
      ]
    }
  ]
}